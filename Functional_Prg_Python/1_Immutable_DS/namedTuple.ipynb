{
 "cells": [
  {
   "cell_type": "markdown",
   "metadata": {},
   "source": [
    "## NamedTuple\n",
    "\n",
    "### General Notes\n",
    "1. Tuples are immutable data sequences\n",
    "\n",
    "2. NamedTuples extend their functionality to:\n",
    "- enable tuples to have names associated with them (properties can be accessed using dot notation) which provides a better idea of what the code is doing -> allow naming of properties with meaningful names within the context of one's code.\n",
    "    ```python\n",
    "    person[2] # vs;\n",
    "    person.middle_name\n",
    "    ```\n",
    "\n",
    "- each of these NamedTuples have utility methods for creation and manipulation operations.\n",
    "- they require no additional memory and are memory-efficient.\n",
    "\n",
    "3. NamedTuples are create through a factory function found in the `collections` module.\n",
    "    ```python\n",
    "    collections.namedtuple(<class_name>, *args)\n",
    "\n",
    "    '''both specified above are required args'''\n",
    "    # class_name is the name of the namedtuple to be created\n",
    "\n",
    "    # *args / field_names - list or iterable type stored in namedtuple method\n",
    "    # -> string w spaces\n",
    "    # -> csv delimited string\n",
    "    # -> iterable (i.e. lists), where each string in it is a name of a field\n",
    "    ```\n",
    "\n",
    "4. NamedTuples can store mutable objects, even though they are immutable.\n",
    "\n",
    "5. Field names cannot start with underscore and cannot name it a reserved python keyword (i.e. `if`, `else`, `return`) etc.\n"
   ]
  },
  {
   "cell_type": "code",
   "execution_count": 1,
   "metadata": {},
   "outputs": [
    {
     "data": {
      "text/plain": [
       "(2, 4)"
      ]
     },
     "execution_count": 1,
     "metadata": {},
     "output_type": "execute_result"
    }
   ],
   "source": [
    "point = (2, 4) # ordinary tuple\n",
    "point"
   ]
  },
  {
   "cell_type": "code",
   "execution_count": 2,
   "metadata": {},
   "outputs": [
    {
     "name": "stdout",
     "output_type": "stream",
     "text": [
      "2\n"
     ]
    },
    {
     "ename": "TypeError",
     "evalue": "'tuple' object does not support item assignment",
     "output_type": "error",
     "traceback": [
      "\u001b[1;31m---------------------------------------------------------------------------\u001b[0m",
      "\u001b[1;31mTypeError\u001b[0m                                 Traceback (most recent call last)",
      "Cell \u001b[1;32mIn[2], line 4\u001b[0m\n\u001b[0;32m      1\u001b[0m \u001b[39mprint\u001b[39m(point[\u001b[39m0\u001b[39m])\n\u001b[0;32m      3\u001b[0m \u001b[39m# try to change value -> TypeError as immutable\u001b[39;00m\n\u001b[1;32m----> 4\u001b[0m point[\u001b[39m0\u001b[39;49m] \u001b[39m=\u001b[39m \u001b[39m3\u001b[39m\n",
      "\u001b[1;31mTypeError\u001b[0m: 'tuple' object does not support item assignment"
     ]
    }
   ],
   "source": [
    "print(point[0])\n",
    "\n",
    "# try to change value -> TypeError as immutable\n",
    "point[0] = 3"
   ]
  },
  {
   "cell_type": "markdown",
   "metadata": {},
   "source": [
    "### Creation of NamedTuples"
   ]
  },
  {
   "cell_type": "code",
   "execution_count": 3,
   "metadata": {},
   "outputs": [
    {
     "name": "stdout",
     "output_type": "stream",
     "text": [
      "4 2\n",
      "5 3\n"
     ]
    }
   ],
   "source": [
    "from collections import namedtuple\n",
    "\n",
    "# create a class\n",
    "Point = namedtuple('Point', ['x', 'y'])\n",
    "\n",
    "p1 = Point(x=4, y=2)\n",
    "print(p1.x, p1.y)\n",
    "\n",
    "p2 = Point(5, 3)\n",
    "print(p2.x, p2.y)"
   ]
  },
  {
   "cell_type": "code",
   "execution_count": 4,
   "metadata": {},
   "outputs": [
    {
     "name": "stdout",
     "output_type": "stream",
     "text": [
      "<class '__main__.Point'>\n",
      "True\n"
     ]
    }
   ],
   "source": [
    "print(type(p1))\n",
    "\n",
    "print(isinstance(p2, tuple))"
   ]
  },
  {
   "cell_type": "code",
   "execution_count": 5,
   "metadata": {},
   "outputs": [
    {
     "ename": "AttributeError",
     "evalue": "can't set attribute",
     "output_type": "error",
     "traceback": [
      "\u001b[1;31m---------------------------------------------------------------------------\u001b[0m",
      "\u001b[1;31mAttributeError\u001b[0m                            Traceback (most recent call last)",
      "Cell \u001b[1;32mIn[5], line 2\u001b[0m\n\u001b[0;32m      1\u001b[0m \u001b[39m# get an attribute error instead of type error\u001b[39;00m\n\u001b[1;32m----> 2\u001b[0m p1\u001b[39m.\u001b[39;49mx \u001b[39m=\u001b[39m \u001b[39m10\u001b[39m\n",
      "\u001b[1;31mAttributeError\u001b[0m: can't set attribute"
     ]
    }
   ],
   "source": [
    "# get an attribute error instead of type error\n",
    "p1.x = 10"
   ]
  },
  {
   "cell_type": "code",
   "execution_count": 6,
   "metadata": {},
   "outputs": [
    {
     "data": {
      "text/plain": [
       "Person(Name='John', Kids=['Joe', 'Jim', 'Jess'])"
      ]
     },
     "execution_count": 6,
     "metadata": {},
     "output_type": "execute_result"
    }
   ],
   "source": [
    "# demonstrating point 4 in the above description\n",
    "Person = namedtuple('Person', 'Name Kids')\n",
    "\n",
    "john = Person('John', ['Joe', 'Jim', 'Jess'])\n",
    "john"
   ]
  },
  {
   "cell_type": "code",
   "execution_count": 7,
   "metadata": {},
   "outputs": [
    {
     "ename": "AttributeError",
     "evalue": "can't set attribute",
     "output_type": "error",
     "traceback": [
      "\u001b[1;31m---------------------------------------------------------------------------\u001b[0m",
      "\u001b[1;31mAttributeError\u001b[0m                            Traceback (most recent call last)",
      "Cell \u001b[1;32mIn[7], line 1\u001b[0m\n\u001b[1;32m----> 1\u001b[0m john\u001b[39m.\u001b[39;49mName \u001b[39m=\u001b[39m \u001b[39m'\u001b[39m\u001b[39mBob\u001b[39m\u001b[39m'\u001b[39m\n",
      "\u001b[1;31mAttributeError\u001b[0m: can't set attribute"
     ]
    }
   ],
   "source": [
    "john.Name = 'Bob'"
   ]
  },
  {
   "cell_type": "code",
   "execution_count": 8,
   "metadata": {},
   "outputs": [],
   "source": [
    "john.Kids.append('Jammy') # can append, but cannot modify"
   ]
  },
  {
   "cell_type": "code",
   "execution_count": 9,
   "metadata": {},
   "outputs": [],
   "source": [
    "john.Kids.remove('Joe')"
   ]
  },
  {
   "cell_type": "code",
   "execution_count": 10,
   "metadata": {},
   "outputs": [
    {
     "data": {
      "text/plain": [
       "['Jim', 'Jess', 'Jammy']"
      ]
     },
     "execution_count": 10,
     "metadata": {},
     "output_type": "execute_result"
    }
   ],
   "source": [
    "john.Kids"
   ]
  },
  {
   "cell_type": "code",
   "execution_count": 11,
   "metadata": {},
   "outputs": [
    {
     "name": "stdout",
     "output_type": "stream",
     "text": [
      "['Jim', 'Jess', 'Jammy']\n",
      "5\n"
     ]
    }
   ],
   "source": [
    "# access properties using getattr() method\n",
    "print(getattr(john, 'Kids'))\n",
    "print(getattr(p2, 'x'))"
   ]
  },
  {
   "cell_type": "code",
   "execution_count": 12,
   "metadata": {},
   "outputs": [
    {
     "name": "stdout",
     "output_type": "stream",
     "text": [
      "Point(x=3, y=3) 3 3\n"
     ]
    }
   ],
   "source": [
    "newPt = namedtuple('Point', 'x, y')\n",
    "\n",
    "p = newPt(3, 3)\n",
    "\n",
    "print(p, p.x, p.y)"
   ]
  },
  {
   "cell_type": "code",
   "execution_count": 13,
   "metadata": {},
   "outputs": [
    {
     "name": "stdout",
     "output_type": "stream",
     "text": [
      "ThreeDimensionPoint(x=1, y=2, z=5)\n"
     ]
    }
   ],
   "source": [
    "new3DPt = namedtuple('ThreeDimensionPoint', (field for field in 'xyz'))\n",
    "\n",
    "anotherPt = new3DPt(1, 2, 5)\n",
    "print(anotherPt)"
   ]
  },
  {
   "cell_type": "code",
   "execution_count": 14,
   "metadata": {},
   "outputs": [
    {
     "data": {
      "text/plain": [
       "container(varA='x', varB='x^2', varC='x/2')"
      ]
     },
     "execution_count": 14,
     "metadata": {},
     "output_type": "execute_result"
    }
   ],
   "source": [
    "# can also use dictionary and **kwargs to populate the point\n",
    "\n",
    "container = namedtuple('container', ['varA', 'varB', 'varC']) \n",
    "\n",
    "vars = {\n",
    "    'varA' : 'x',\n",
    "    'varB' : 'x^2',\n",
    "    'varC' : 'x/2',\n",
    "}\n",
    "\n",
    "newPt = container(**vars)\n",
    "newPt"
   ]
  },
  {
   "cell_type": "markdown",
   "metadata": {},
   "source": [
    "### Optional Factory Arguments\n",
    "- the `namedtuples()` factory function allows one to:\n",
    "    - auto-rename attributes with illegal naming;\n",
    "    - provide default values on the right hand side of the attributes;\n",
    "    - fake the module name of the class (i.e. change `__main__` into something else)."
   ]
  },
  {
   "cell_type": "code",
   "execution_count": 15,
   "metadata": {},
   "outputs": [
    {
     "ename": "ValueError",
     "evalue": "Type names and field names cannot be a keyword: 'class'",
     "output_type": "error",
     "traceback": [
      "\u001b[1;31m---------------------------------------------------------------------------\u001b[0m",
      "\u001b[1;31mValueError\u001b[0m                                Traceback (most recent call last)",
      "Cell \u001b[1;32mIn[15], line 6\u001b[0m\n\u001b[0;32m      2\u001b[0m \u001b[39mfrom\u001b[39;00m \u001b[39mcollections\u001b[39;00m \u001b[39mimport\u001b[39;00m namedtuple\n\u001b[0;32m      4\u001b[0m columns \u001b[39m=\u001b[39m \u001b[39m\"\u001b[39m\u001b[39m_id name class name pass\u001b[39m\u001b[39m\"\u001b[39m \u001b[39m# can't use reserved words as field_names\u001b[39;00m\n\u001b[1;32m----> 6\u001b[0m Passenger \u001b[39m=\u001b[39m namedtuple(\u001b[39m'\u001b[39;49m\u001b[39mPassenger\u001b[39;49m\u001b[39m'\u001b[39;49m, columns)\n",
      "File \u001b[1;32mc:\\Users\\maste\\AppData\\Local\\Programs\\Python\\Python310\\lib\\collections\\__init__.py:376\u001b[0m, in \u001b[0;36mnamedtuple\u001b[1;34m(typename, field_names, rename, defaults, module)\u001b[0m\n\u001b[0;32m    373\u001b[0m         \u001b[39mraise\u001b[39;00m \u001b[39mValueError\u001b[39;00m(\u001b[39m'\u001b[39m\u001b[39mType names and field names must be valid \u001b[39m\u001b[39m'\u001b[39m\n\u001b[0;32m    374\u001b[0m                          \u001b[39mf\u001b[39m\u001b[39m'\u001b[39m\u001b[39midentifiers: \u001b[39m\u001b[39m{\u001b[39;00mname\u001b[39m!r}\u001b[39;00m\u001b[39m'\u001b[39m)\n\u001b[0;32m    375\u001b[0m     \u001b[39mif\u001b[39;00m _iskeyword(name):\n\u001b[1;32m--> 376\u001b[0m         \u001b[39mraise\u001b[39;00m \u001b[39mValueError\u001b[39;00m(\u001b[39m'\u001b[39m\u001b[39mType names and field names cannot be a \u001b[39m\u001b[39m'\u001b[39m\n\u001b[0;32m    377\u001b[0m                          \u001b[39mf\u001b[39m\u001b[39m'\u001b[39m\u001b[39mkeyword: \u001b[39m\u001b[39m{\u001b[39;00mname\u001b[39m!r}\u001b[39;00m\u001b[39m'\u001b[39m)\n\u001b[0;32m    379\u001b[0m seen \u001b[39m=\u001b[39m \u001b[39mset\u001b[39m()\n\u001b[0;32m    380\u001b[0m \u001b[39mfor\u001b[39;00m name \u001b[39min\u001b[39;00m field_names:\n",
      "\u001b[1;31mValueError\u001b[0m: Type names and field names cannot be a keyword: 'class'"
     ]
    }
   ],
   "source": [
    "# rename argument\n",
    "from collections import namedtuple\n",
    "\n",
    "columns = \"_id name class name pass\" # can't use reserved words as field_names\n",
    "\n",
    "Passenger = namedtuple('Passenger', columns)"
   ]
  },
  {
   "cell_type": "code",
   "execution_count": 16,
   "metadata": {},
   "outputs": [],
   "source": [
    "Passenger = namedtuple('Passenger', columns, rename=True)"
   ]
  },
  {
   "cell_type": "code",
   "execution_count": 17,
   "metadata": {},
   "outputs": [
    {
     "data": {
      "text/plain": [
       "Passenger(_0=1234, name='John', _2='Totally Nothing Illegal', _3='John Doe', _4='Jane')"
      ]
     },
     "execution_count": 17,
     "metadata": {},
     "output_type": "execute_result"
    }
   ],
   "source": [
    "pasgr = Passenger(1234, \"John\", \"Totally Nothing Illegal\", \"John Doe\", \"Jane\")\n",
    "pasgr"
   ]
  },
  {
   "cell_type": "code",
   "execution_count": 18,
   "metadata": {},
   "outputs": [
    {
     "name": "stdout",
     "output_type": "stream",
     "text": [
      "Developer(name='sam', level='Senior', language='Java')\n"
     ]
    }
   ],
   "source": [
    "Developer = namedtuple('Developer', 'name level language', defaults=[\"Senior\", \"Java\"])\n",
    "\n",
    "sam = Developer('sam')\n",
    "print(sam)"
   ]
  },
  {
   "cell_type": "code",
   "execution_count": 19,
   "metadata": {},
   "outputs": [
    {
     "name": "stdout",
     "output_type": "stream",
     "text": [
      "Developer(name='Tony', level='Junior', language='Java')\n"
     ]
    }
   ],
   "source": [
    "tony = Developer('Tony', 'Junior') # dangerous since positioning matters\n",
    "print(tony)"
   ]
  },
  {
   "cell_type": "code",
   "execution_count": 20,
   "metadata": {},
   "outputs": [
    {
     "data": {
      "text/plain": [
       "'collections'"
      ]
     },
     "execution_count": 20,
     "metadata": {},
     "output_type": "execute_result"
    }
   ],
   "source": [
    "# module argument\n",
    "from collections import OrderedDict\n",
    "OrderedDict.__module__"
   ]
  },
  {
   "cell_type": "code",
   "execution_count": 21,
   "metadata": {},
   "outputs": [
    {
     "data": {
      "text/plain": [
       "'custom'"
      ]
     },
     "execution_count": 21,
     "metadata": {},
     "output_type": "execute_result"
    }
   ],
   "source": [
    "Point = namedtuple('Point', 'x y', module='custom')\n",
    "Point.__module__"
   ]
  }
 ],
 "metadata": {
  "kernelspec": {
   "display_name": "Python 3",
   "language": "python",
   "name": "python3"
  },
  "language_info": {
   "codemirror_mode": {
    "name": "ipython",
    "version": 3
   },
   "file_extension": ".py",
   "mimetype": "text/x-python",
   "name": "python",
   "nbconvert_exporter": "python",
   "pygments_lexer": "ipython3",
   "version": "3.10.4"
  },
  "orig_nbformat": 4
 },
 "nbformat": 4,
 "nbformat_minor": 2
}
