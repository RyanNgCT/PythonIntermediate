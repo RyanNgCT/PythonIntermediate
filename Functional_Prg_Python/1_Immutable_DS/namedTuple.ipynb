{
 "cells": [
  {
   "cell_type": "markdown",
   "metadata": {},
   "source": [
    "## NamedTuple Notes\n",
    "1. Tuples are immutable data sequences\n",
    "2. NamedTuples extend their functionality to:\n",
    "- enable tuples to have names associated with them (properties can be accessed using dot notation) which provides a better idea of what the code is doing -> can name properties with meaningful names.\n",
    "    ```python\n",
    "    person[2] # vs;\n",
    "    person.middle_name\n",
    "    ```\n",
    "\n",
    "- each of these NamedTuples have utility methods for creation and manipulation operations.\n",
    "- they require no additional memory and are memory-efficient.\n",
    "\n",
    "3. NamedTuples are create through a factory function found in the `collections` module.\n",
    "    ```python\n",
    "    collections.namedtuple(<class_name>, *args)\n",
    "\n",
    "    # *args\n",
    "    # -> string w spaces\n",
    "    # -> csv delimited string\n",
    "    # -> iterable (i.e. lists)\n",
    "    ```\n",
    "\n"
   ]
  },
  {
   "cell_type": "code",
   "execution_count": 1,
   "metadata": {},
   "outputs": [
    {
     "data": {
      "text/plain": [
       "(2, 4)"
      ]
     },
     "execution_count": 1,
     "metadata": {},
     "output_type": "execute_result"
    }
   ],
   "source": [
    "point = (2, 4) # ordinary tuple\n",
    "point"
   ]
  },
  {
   "cell_type": "code",
   "execution_count": 2,
   "metadata": {},
   "outputs": [
    {
     "name": "stdout",
     "output_type": "stream",
     "text": [
      "2\n"
     ]
    },
    {
     "ename": "TypeError",
     "evalue": "'tuple' object does not support item assignment",
     "output_type": "error",
     "traceback": [
      "\u001b[0;31m---------------------------------------------------------------------------\u001b[0m",
      "\u001b[0;31mTypeError\u001b[0m                                 Traceback (most recent call last)",
      "Cell \u001b[0;32mIn[2], line 4\u001b[0m\n\u001b[1;32m      1\u001b[0m \u001b[39mprint\u001b[39m(point[\u001b[39m0\u001b[39m])\n\u001b[1;32m      3\u001b[0m \u001b[39m# try to change value -> TypeError as immutable\u001b[39m\n\u001b[0;32m----> 4\u001b[0m point[\u001b[39m0\u001b[39;49m] \u001b[39m=\u001b[39m \u001b[39m3\u001b[39m\n",
      "\u001b[0;31mTypeError\u001b[0m: 'tuple' object does not support item assignment"
     ]
    }
   ],
   "source": [
    "print(point[0])\n",
    "\n",
    "# try to change value -> TypeError as immutable\n",
    "point[0] = 3"
   ]
  },
  {
   "cell_type": "code",
   "execution_count": null,
   "metadata": {},
   "outputs": [
    {
     "name": "stdout",
     "output_type": "stream",
     "text": [
      "4 2\n"
     ]
    }
   ],
   "source": [
    "from collections import namedtuple\n",
    "\n",
    "# create a class\n",
    "Point = namedtuple('Point', ['x', 'y'])\n",
    "\n",
    "p1 = Point(x=4, y=2)\n",
    "print(p1.x, p1.y)"
   ]
  },
  {
   "cell_type": "code",
   "execution_count": null,
   "metadata": {},
   "outputs": [],
   "source": []
  }
 ],
 "metadata": {
  "kernelspec": {
   "display_name": "Python 3",
   "language": "python",
   "name": "python3"
  },
  "language_info": {
   "codemirror_mode": {
    "name": "ipython",
    "version": 3
   },
   "file_extension": ".py",
   "mimetype": "text/x-python",
   "name": "python",
   "nbconvert_exporter": "python",
   "pygments_lexer": "ipython3",
   "version": "3.8.0"
  },
  "orig_nbformat": 4
 },
 "nbformat": 4,
 "nbformat_minor": 2
}
