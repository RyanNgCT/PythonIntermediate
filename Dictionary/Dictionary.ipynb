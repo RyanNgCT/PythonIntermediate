{
 "cells": [
  {
   "attachments": {},
   "cell_type": "markdown",
   "metadata": {},
   "source": [
    "# Dictionaries\n",
    "\n",
    "- made up of key-value pairs, unordered items, are mutable (can use CRUD operations on them)\n",
    "- each key-value pair is seperated by a comma, keys and values seperated by colons, can contain other dictionaries, lists etc. (like `json`)\n",
    "\n",
    "    ```json\n",
    "    sampleDict = {\n",
    "        \"name\" : \"Phil\",\n",
    "        \"age\" : 21,\n",
    "        \"hobbies\": [\"tennis\", \"reading\", \"physics\", \"mathematics\"],\n",
    "        \"learning\": [\"python\", \"sql\"]\n",
    "    }\n",
    "    ```\n",
    "\n",
    "- can be created using the curly braces `{ }` or using the `dict()` function"
   ]
  },
  {
   "cell_type": "code",
   "execution_count": 1,
   "metadata": {},
   "outputs": [
    {
     "data": {
      "text/plain": [
       "{'name': 'John',\n",
       " 'age': 28,\n",
       " 'hobbies': ['ctfs', 'youtubing', 'hippity hoppities']}"
      ]
     },
     "execution_count": 1,
     "metadata": {},
     "output_type": "execute_result"
    }
   ],
   "source": [
    "johnHobbies = (\"ctfs\", \"youtubing\", \"hippity hoppities\")\n",
    "# don't have to use quotes for keys when using dict()\n",
    "myDict = dict(name=\"John\", age=28, hobbies=list(johnHobbies))\n",
    "myDict"
   ]
  },
  {
   "cell_type": "code",
   "execution_count": 2,
   "metadata": {},
   "outputs": [
    {
     "data": {
      "text/plain": [
       "['ctfs', 'youtubing', 'hippity hoppities']"
      ]
     },
     "execution_count": 2,
     "metadata": {},
     "output_type": "execute_result"
    }
   ],
   "source": [
    "# getting keys\n",
    "ageValue = myDict[\"hobbies\"]\n",
    "ageValue"
   ]
  },
  {
   "attachments": {},
   "cell_type": "markdown",
   "metadata": {},
   "source": [
    "## CRUD Operations on Dictionaries\n",
    "- Adding a key-value pair: use a unique key otherwise the value of the old key will be overwritten"
   ]
  },
  {
   "cell_type": "code",
   "execution_count": 3,
   "metadata": {},
   "outputs": [
    {
     "data": {
      "text/plain": [
       "{'name': 'John',\n",
       " 'age': 28,\n",
       " 'hobbies': ['ctfs', 'youtubing', 'hippity hoppities'],\n",
       " 'learning': \"Nothing. He's too good\"}"
      ]
     },
     "execution_count": 3,
     "metadata": {},
     "output_type": "execute_result"
    }
   ],
   "source": [
    "# unique key used while adding new k-v pair\n",
    "myDict[\"learning\"] = \"Nothing. He's too good\"\n",
    "myDict"
   ]
  },
  {
   "cell_type": "code",
   "execution_count": 4,
   "metadata": {},
   "outputs": [
    {
     "data": {
      "text/plain": [
       "{'name': 'Phil',\n",
       " 'age': 28,\n",
       " 'hobbies': ['ctfs', 'youtubing', 'hippity hoppities'],\n",
       " 'learning': \"Nothing. He's too good\"}"
      ]
     },
     "execution_count": 4,
     "metadata": {},
     "output_type": "execute_result"
    }
   ],
   "source": [
    "# overwriting an existing value of a specific key\n",
    "myDict['name'] = \"Phil\"\n",
    "myDict"
   ]
  },
  {
   "attachments": {},
   "cell_type": "markdown",
   "metadata": {},
   "source": [
    "### Deletion Operators:\n",
    "- Below are some of the common dictionary key-value pair deletion operators.\n",
    "\n",
    "    ```python\n",
    "    del sampleDict['<key>']\n",
    "\n",
    "    # or\n",
    "\n",
    "    sampleDict.pop(\"<key>\") # requires an argument, unlike the list pop method\n",
    "    ```"
   ]
  },
  {
   "cell_type": "code",
   "execution_count": 5,
   "metadata": {},
   "outputs": [
    {
     "data": {
      "text/plain": [
       "{'name': 'Phil',\n",
       " 'age': 28,\n",
       " 'hobbies': ['ctfs', 'youtubing', 'hippity hoppities']}"
      ]
     },
     "execution_count": 5,
     "metadata": {},
     "output_type": "execute_result"
    }
   ],
   "source": [
    "# del myDict['age']\n",
    "myDict.pop(\"learning\")\n",
    "myDict"
   ]
  },
  {
   "cell_type": "markdown",
   "metadata": {},
   "source": [
    "## Dictionary Manipulation"
   ]
  },
  {
   "cell_type": "code",
   "execution_count": 6,
   "metadata": {},
   "outputs": [
    {
     "name": "stdout",
     "output_type": "stream",
     "text": [
      "Phil\n",
      "Error...\n"
     ]
    }
   ],
   "source": [
    "if \"name\" in myDict:\n",
    "    print(myDict['name'])\n",
    "\n",
    "try:\n",
    "     print(myDict['lastname']) # key doesn't exist\n",
    "except:\n",
    "    print(\"Error...\")"
   ]
  },
  {
   "attachments": {},
   "cell_type": "markdown",
   "metadata": {},
   "source": [
    "### `dict.get()` method\n",
    "\n",
    "- returns value for key, `None` if the key doesn't exist in the particular dictionary\n",
    "- _Syntax: `get(<key>, <defaultReturn: optionalMessage>)`_"
   ]
  },
  {
   "cell_type": "code",
   "execution_count": 7,
   "metadata": {},
   "outputs": [
    {
     "name": "stdout",
     "output_type": "stream",
     "text": [
      "None\n"
     ]
    },
    {
     "data": {
      "text/plain": [
       "['ctfs', 'youtubing', 'hippity hoppities']"
      ]
     },
     "execution_count": 7,
     "metadata": {},
     "output_type": "execute_result"
    }
   ],
   "source": [
    "print(myDict.get('firstname')) # returns None\n",
    "myDict.get('hobbies') "
   ]
  },
  {
   "cell_type": "code",
   "execution_count": 8,
   "metadata": {},
   "outputs": [
    {
     "name": "stdout",
     "output_type": "stream",
     "text": [
      "name\n",
      "age\n",
      "hobbies\n"
     ]
    }
   ],
   "source": [
    "# looping through the keys (by default .keys())\n",
    "for value in myDict:\n",
    "    print(value)"
   ]
  },
  {
   "attachments": {},
   "cell_type": "markdown",
   "metadata": {},
   "source": [
    "### Iteration method choices\n",
    "\n",
    "- `dictName.keys()` return/do manipulation w keys only\n",
    "- `dictName.values()` return/do manipulation w values only\n",
    "- `dictName.items()` return/do manipulation w keys and/or values -> if only one iterator is specified, key-value pairs are returned as a tuple"
   ]
  },
  {
   "cell_type": "code",
   "execution_count": 9,
   "metadata": {},
   "outputs": [
    {
     "name": "stdout",
     "output_type": "stream",
     "text": [
      "The length of the dictionary is: 3\n",
      "name Phil\n",
      "age 28\n",
      "hobbies ['ctfs', 'youtubing', 'hippity hoppities']\n"
     ]
    }
   ],
   "source": [
    "print(f'The length of the dictionary is: {len(myDict)}')\n",
    "\n",
    "# loop through keys and values\n",
    "for key, value in myDict.items(): \n",
    "    print(key, value)"
   ]
  },
  {
   "cell_type": "code",
   "execution_count": 10,
   "metadata": {},
   "outputs": [
    {
     "name": "stdout",
     "output_type": "stream",
     "text": [
      "('name', 'Phil')\n",
      "('age', 28)\n",
      "('hobbies', ['ctfs', 'youtubing', 'hippity hoppities'])\n"
     ]
    }
   ],
   "source": [
    "# returns tuple of k-v pairs\n",
    "for i in myDict.items():\n",
    "    print(i)"
   ]
  },
  {
   "attachments": {},
   "cell_type": "markdown",
   "metadata": {},
   "source": [
    "### Making Dictionary Copies\n",
    "- using literal assignment is not advised (changing the copied dictionary will also change the original -> concept of variable pointers to the same memory address)\n",
    "\n",
    "    ```python\n",
    "    originalDict = dict(firstName=\"John\", lastName=\"Doe\")\n",
    "    newDict = originalDict\n",
    "\n",
    "    newDict['lastName'] = \"Hammond\"\n",
    "    print(originalDict) # {'firstName': 'John', 'lastName': 'Hammond'}\n",
    "\n",
    "    ```\n",
    "- Instead, one should use the in-built `copy()` method provided by Python, or using the `dict()` to create an instance of the original\n",
    "\n",
    "    ```python\n",
    "    newDict = dict(originalDict)\n",
    "    ```"
   ]
  },
  {
   "cell_type": "code",
   "execution_count": 11,
   "metadata": {},
   "outputs": [
    {
     "data": {
      "text/plain": [
       "({'name': 'Phil',\n",
       "  'age': 28,\n",
       "  'hobbies': ['ctfs', 'youtubing', 'hippity hoppities']},\n",
       " {'name': 'Miao',\n",
       "  'age': 28,\n",
       "  'hobbies': ['ctfs', 'youtubing', 'hippity hoppities']})"
      ]
     },
     "execution_count": 11,
     "metadata": {},
     "output_type": "execute_result"
    }
   ],
   "source": [
    "newDict = myDict.copy()\n",
    "newDict['name'] = \"Miao\"\n",
    "myDict, newDict"
   ]
  },
  {
   "cell_type": "code",
   "execution_count": 12,
   "metadata": {},
   "outputs": [
    {
     "data": {
      "text/plain": [
       "{'name': 'Jane',\n",
       " 'age': 25,\n",
       " 'hobbies': ['ctfs', 'youtubing', 'hippity hoppities'],\n",
       " 'email': 'jane@doe.io'}"
      ]
     },
     "execution_count": 12,
     "metadata": {},
     "output_type": "execute_result"
    }
   ],
   "source": [
    "myDict2 = dict(name=\"Jane\", age=25, email=\"jane@doe.io\")\n",
    "\n",
    "myDict.update(myDict2) # override values specified\n",
    "myDict"
   ]
  },
  {
   "cell_type": "markdown",
   "metadata": {},
   "source": [
    "### Sorting Dictionaries \n",
    "- using dict comprehensions and in-place methods (whether `lambda`s or sorting functions)"
   ]
  },
  {
   "cell_type": "code",
   "execution_count": 13,
   "metadata": {},
   "outputs": [
    {
     "name": "stdout",
     "output_type": "stream",
     "text": [
      "{'Apples': 5, 'Bananas': 2.4, 'Dragonfruit': 3, 'Dustpan': 10, 'Guava': 1.5, 'Tissue Packs': 0.5, 'Zespri Kiwis': 6.5}\n"
     ]
    }
   ],
   "source": [
    "product_prices = {'Bananas' : 2.40, 'Tissue Packs': 0.50, 'Apples': 5, 'Zespri Kiwis': 6.50, 'Dragonfruit': 3, 'Guava' : 1.5, 'Dustpan': 10}\n",
    "\n",
    "# sort by keys\n",
    "sorted_item_prices = {key: product_prices[key] for key in sorted(product_prices.keys())}\n",
    "print(sorted_item_prices)"
   ]
  },
  {
   "cell_type": "code",
   "execution_count": 14,
   "metadata": {},
   "outputs": [
    {
     "name": "stdout",
     "output_type": "stream",
     "text": [
      "{'Dustpan': 10, 'Zespri Kiwis': 6.5, 'Apples': 5, 'Dragonfruit': 3, 'Bananas': 2.4, 'Guava': 1.5, 'Tissue Packs': 0.5}\n"
     ]
    }
   ],
   "source": [
    "# sort by values based on price, decreasing\n",
    "sorted_prices_for_items = sorted(product_prices.items(), key=lambda x : x[1], reverse=True)\n",
    "print(dict(sorted_prices_for_items))"
   ]
  },
  {
   "cell_type": "markdown",
   "metadata": {},
   "source": [
    "_Reference for Cell 14: https://www.freecodecamp.org/news/sort-dictionary-by-value-in-python/_"
   ]
  },
  {
   "cell_type": "code",
   "execution_count": 15,
   "metadata": {},
   "outputs": [
    {
     "data": {
      "text/plain": [
       "{'Tissue Packs': 0.5,\n",
       " 'Guava': 1.5,\n",
       " 'Bananas': 2.4,\n",
       " 'Dragonfruit': 3,\n",
       " 'Apples': 5,\n",
       " 'Zespri Kiwis': 6.5,\n",
       " 'Dustpan': 10}"
      ]
     },
     "execution_count": 15,
     "metadata": {},
     "output_type": "execute_result"
    }
   ],
   "source": [
    "sorted_prices_for_items_2 = {key : val for key, val in sorted(product_prices.items(), key=lambda x : x[1])}\n",
    "sorted_prices_for_items_2"
   ]
  }
 ],
 "metadata": {
  "kernelspec": {
   "display_name": "Python 3",
   "language": "python",
   "name": "python3"
  },
  "language_info": {
   "codemirror_mode": {
    "name": "ipython",
    "version": 3
   },
   "file_extension": ".py",
   "mimetype": "text/x-python",
   "name": "python",
   "nbconvert_exporter": "python",
   "pygments_lexer": "ipython3",
   "version": "3.8.0"
  },
  "orig_nbformat": 4,
  "vscode": {
   "interpreter": {
    "hash": "082e9a3bcad0a290d0001e938aa60b99250c6c2ef33a923c00b70f9826caf4b7"
   }
  }
 },
 "nbformat": 4,
 "nbformat_minor": 2
}
