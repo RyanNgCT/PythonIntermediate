{
 "cells": [
  {
   "cell_type": "markdown",
   "metadata": {},
   "source": [
    "## Dictionary Methods\n",
    "1. `dict.values()` -> displays the values\n",
    "2. `dict.keys()` -> displays the keys\n",
    "3. `dict.pop()` -> remove a specified key by passing in the key name\n",
    "4. `dict.popitem()` -> removes last item, no argument needed\n",
    "5. `dict.copy()` -> returns a shallow copy of target dictionary\n",
    "\n",
    "\n",
    "_Video link: https://www.youtube.com/watch?v=u0yr9B3nH8c_"
   ]
  },
  {
   "cell_type": "code",
   "execution_count": 1,
   "metadata": {},
   "outputs": [
    {
     "data": {
      "text/plain": [
       "{0: 'Mario', 1: 'Luigi', 2: 'Peach', 3: 'Donkey Kong'}"
      ]
     },
     "execution_count": 1,
     "metadata": {},
     "output_type": "execute_result"
    }
   ],
   "source": [
    "users = {0: 'Mario', 1: 'Luigi', 2: 'Peach', 3:'Donkey Kong'}\n",
    "users"
   ]
  },
  {
   "cell_type": "code",
   "execution_count": 2,
   "metadata": {},
   "outputs": [
    {
     "data": {
      "text/plain": [
       "dict_values(['Mario', 'Luigi', 'Peach', 'Donkey Kong'])"
      ]
     },
     "execution_count": 2,
     "metadata": {},
     "output_type": "execute_result"
    }
   ],
   "source": [
    "users.values() # print only dict values"
   ]
  },
  {
   "cell_type": "code",
   "execution_count": 3,
   "metadata": {},
   "outputs": [
    {
     "data": {
      "text/plain": [
       "dict_keys([0, 1, 2, 3])"
      ]
     },
     "execution_count": 3,
     "metadata": {},
     "output_type": "execute_result"
    }
   ],
   "source": [
    "users.keys()"
   ]
  },
  {
   "cell_type": "code",
   "execution_count": 4,
   "metadata": {},
   "outputs": [
    {
     "name": "stdout",
     "output_type": "stream",
     "text": [
      "{0: 'Mario', 1: 'Luigi', 3: 'Donkey Kong'} \n",
      " Peach\n"
     ]
    }
   ],
   "source": [
    "popped = users.pop(2)\n",
    "print(users, '\\n', popped)"
   ]
  },
  {
   "cell_type": "code",
   "execution_count": 5,
   "metadata": {},
   "outputs": [
    {
     "data": {
      "text/plain": [
       "{0: 'Mario', 1: 'Luigi', 3: 'Donkey Kong', 7: 'Yoshi', 2: 'Bowser', 4: 'Wario'}"
      ]
     },
     "execution_count": 5,
     "metadata": {},
     "output_type": "execute_result"
    }
   ],
   "source": [
    "users[7] = 'Yoshi'\n",
    "users[2] = 'Bowser'\n",
    "users[4] = 'Wario'\n",
    "users"
   ]
  },
  {
   "cell_type": "code",
   "execution_count": 6,
   "metadata": {},
   "outputs": [
    {
     "data": {
      "text/plain": [
       "(4, 'Wario')"
      ]
     },
     "execution_count": 6,
     "metadata": {},
     "output_type": "execute_result"
    }
   ],
   "source": [
    "if users != None:\n",
    "    removed = users.popitem()\n",
    "removed"
   ]
  },
  {
   "cell_type": "code",
   "execution_count": 7,
   "metadata": {},
   "outputs": [
    {
     "data": {
      "text/plain": [
       "{0: 'Mario', 1: 'Luigi', 2: 'Bowser', 3: 'Donkey Kong', 7: 'Yoshi'}"
      ]
     },
     "execution_count": 7,
     "metadata": {},
     "output_type": "execute_result"
    }
   ],
   "source": [
    "# need to cast, else is list of tuples\n",
    "users = dict(sorted(users.items()))\n",
    "users"
   ]
  },
  {
   "cell_type": "code",
   "execution_count": 8,
   "metadata": {},
   "outputs": [
    {
     "name": "stdout",
     "output_type": "stream",
     "text": [
      "{0: ['a', 'b', 'c'], 1: ['d', 'e', 'f', 'g']} {0: ['a', 'b', 'c'], 1: ['d', 'e', 'f', 'g']} \n",
      " 2080634856640 2080634738560\n"
     ]
    }
   ],
   "source": [
    "new_dict = {0: ['a', 'b', 'c'], 1: ['d', 'e', 'f', 'g']}\n",
    "\n",
    "new_dict_cpy = new_dict.copy()\n",
    "print(new_dict, new_dict_cpy, '\\n', id(new_dict), id(new_dict_cpy))"
   ]
  }
 ],
 "metadata": {
  "kernelspec": {
   "display_name": "Python 3",
   "language": "python",
   "name": "python3"
  },
  "language_info": {
   "codemirror_mode": {
    "name": "ipython",
    "version": 3
   },
   "file_extension": ".py",
   "mimetype": "text/x-python",
   "name": "python",
   "nbconvert_exporter": "python",
   "pygments_lexer": "ipython3",
   "version": "3.10.4"
  },
  "orig_nbformat": 4
 },
 "nbformat": 4,
 "nbformat_minor": 2
}
