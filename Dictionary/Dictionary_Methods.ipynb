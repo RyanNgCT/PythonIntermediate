{
 "cells": [
  {
   "cell_type": "markdown",
   "metadata": {},
   "source": [
    "## Dictionary Methods\n",
    "1. `dict.values()` -> displays the values\n",
    "2. `dict.keys()` -> displays the keys\n",
    "3. `dict.pop()` -> remove a specified key by passing in the key name\n",
    "4. `dict.popitem()` -> removes last item, no argument needed; Returns keyError if dict is empty\n",
    "5. `dict.copy()` -> returns a shallow copy of target dictionary\n",
    "6. `dict.get(<key> [, value])` -> returns a value for a specified key. Returns `None` if key doesn't exists, but able to specify default val to return; default for this param is `None` -> hence it is return if 2nd param not specified.\n",
    "7. `dict.setdefault()` -> tries to grab a key value pair if exists. If not, try to create it.\n",
    "8. `dict.clear()` -> reset the dict to empty\n",
    "9. `dict.fromkeys()` -> prepopulates values for given keys of dictionaries\n",
    "\n",
    "_Video link: https://www.youtube.com/watch?v=u0yr9B3nH8c_"
   ]
  },
  {
   "cell_type": "code",
   "execution_count": 1,
   "metadata": {},
   "outputs": [
    {
     "data": {
      "text/plain": [
       "{0: 'Mario', 1: 'Luigi', 2: 'Peach', 3: 'Donkey Kong'}"
      ]
     },
     "execution_count": 1,
     "metadata": {},
     "output_type": "execute_result"
    }
   ],
   "source": [
    "users = {0: 'Mario', 1: 'Luigi', 2: 'Peach', 3:'Donkey Kong'}\n",
    "users"
   ]
  },
  {
   "cell_type": "code",
   "execution_count": 2,
   "metadata": {},
   "outputs": [
    {
     "data": {
      "text/plain": [
       "dict_values(['Mario', 'Luigi', 'Peach', 'Donkey Kong'])"
      ]
     },
     "execution_count": 2,
     "metadata": {},
     "output_type": "execute_result"
    }
   ],
   "source": [
    "users.values() # print only dict values"
   ]
  },
  {
   "cell_type": "code",
   "execution_count": 3,
   "metadata": {},
   "outputs": [
    {
     "data": {
      "text/plain": [
       "dict_keys([0, 1, 2, 3])"
      ]
     },
     "execution_count": 3,
     "metadata": {},
     "output_type": "execute_result"
    }
   ],
   "source": [
    "users.keys()"
   ]
  },
  {
   "cell_type": "code",
   "execution_count": 4,
   "metadata": {},
   "outputs": [
    {
     "name": "stdout",
     "output_type": "stream",
     "text": [
      "{0: 'Mario', 1: 'Luigi', 3: 'Donkey Kong'} \n",
      " Peach\n"
     ]
    }
   ],
   "source": [
    "popped = users.pop(2)\n",
    "print(users, '\\n', popped)"
   ]
  },
  {
   "cell_type": "code",
   "execution_count": 5,
   "metadata": {},
   "outputs": [
    {
     "data": {
      "text/plain": [
       "{0: 'Mario', 1: 'Luigi', 3: 'Donkey Kong', 7: 'Yoshi', 2: 'Bowser', 4: 'Wario'}"
      ]
     },
     "execution_count": 5,
     "metadata": {},
     "output_type": "execute_result"
    }
   ],
   "source": [
    "users[7] = 'Yoshi'\n",
    "users[2] = 'Bowser'\n",
    "users[4] = 'Wario'\n",
    "users"
   ]
  },
  {
   "cell_type": "code",
   "execution_count": 6,
   "metadata": {},
   "outputs": [
    {
     "data": {
      "text/plain": [
       "(4, 'Wario')"
      ]
     },
     "execution_count": 6,
     "metadata": {},
     "output_type": "execute_result"
    }
   ],
   "source": [
    "if users != None: # check for no entries/items in dict\n",
    "    removed = users.popitem()\n",
    "removed"
   ]
  },
  {
   "cell_type": "code",
   "execution_count": 7,
   "metadata": {},
   "outputs": [
    {
     "data": {
      "text/plain": [
       "{0: 'Mario', 1: 'Luigi', 2: 'Bowser', 3: 'Donkey Kong', 7: 'Yoshi'}"
      ]
     },
     "execution_count": 7,
     "metadata": {},
     "output_type": "execute_result"
    }
   ],
   "source": [
    "# need to cast, else is list of tuples\n",
    "users = dict(sorted(users.items()))\n",
    "users"
   ]
  },
  {
   "cell_type": "code",
   "execution_count": 8,
   "metadata": {},
   "outputs": [
    {
     "name": "stdout",
     "output_type": "stream",
     "text": [
      "{0: ['a', 'b', 'c'], 1: ['d', 'e', 'f', 'g']} {0: ['a', 'b', 'c'], 1: ['d', 'e', 'f', 'g']} \n",
      " 4472521600 4472628736\n",
      "References for new_dict and new_dict_cpy are not unique.\n"
     ]
    }
   ],
   "source": [
    "new_dict = {0: ['a', 'b', 'c'], 1: ['d', 'e', 'f', 'g']}\n",
    "\n",
    "new_dict_cpy = new_dict.copy()\n",
    "print(new_dict, new_dict_cpy, '\\n', id(new_dict), id(new_dict_cpy))\n",
    "\n",
    "print('References for new_dict and new_dict_cpy are not unique.')"
   ]
  },
  {
   "cell_type": "code",
   "execution_count": 9,
   "metadata": {},
   "outputs": [
    {
     "name": "stdout",
     "output_type": "stream",
     "text": [
      "{0: ['a', '0x4d5a', 'c'], 1: ['d', 'e', 'f', 'g']} {0: ['a', '0x4d5a', 'c'], 1: ['d', 'e', 'f', 'g']}\n"
     ]
    }
   ],
   "source": [
    "# try to modify 2nd element as referenced by 1st key of \"0\" \n",
    "new_dict_cpy[0][1] = '0x4d5a'\n",
    "print(new_dict, new_dict_cpy) # both dicts get modified (as references in the list aren't unique)"
   ]
  },
  {
   "cell_type": "code",
   "execution_count": 10,
   "metadata": {},
   "outputs": [
    {
     "data": {
      "text/plain": [
       "'Luigi'"
      ]
     },
     "execution_count": 10,
     "metadata": {},
     "output_type": "execute_result"
    }
   ],
   "source": [
    "users.get(1)"
   ]
  },
  {
   "cell_type": "code",
   "execution_count": 11,
   "metadata": {},
   "outputs": [
    {
     "name": "stdout",
     "output_type": "stream",
     "text": [
      "None\n"
     ]
    }
   ],
   "source": [
    "res = users.get(999) # returns None if key doesn't exist\n",
    "print(res)"
   ]
  },
  {
   "cell_type": "code",
   "execution_count": 12,
   "metadata": {},
   "outputs": [
    {
     "data": {
      "text/plain": [
       "'Missing Value'"
      ]
     },
     "execution_count": 12,
     "metadata": {},
     "output_type": "execute_result"
    }
   ],
   "source": [
    "users.get(999, 'Missing Value')"
   ]
  },
  {
   "cell_type": "code",
   "execution_count": 13,
   "metadata": {},
   "outputs": [
    {
     "name": "stdout",
     "output_type": "stream",
     "text": [
      "{0: 'Mario', 1: 'Luigi', 2: 'Bowser', 3: 'Donkey Kong', 7: 'Yoshi'}\n",
      "Luigi\n",
      "???\n",
      "???\n"
     ]
    }
   ],
   "source": [
    "print(users)\n",
    "\n",
    "print(users.setdefault(1, '???')) # returns Luigi\n",
    "print(users.setdefault(4, '???')) # user doesn't exist\n",
    "print(users.setdefault(20, '???')) # user doesn't exist too"
   ]
  },
  {
   "cell_type": "code",
   "execution_count": 14,
   "metadata": {},
   "outputs": [
    {
     "name": "stdout",
     "output_type": "stream",
     "text": [
      "person =  {'name': 'Phil', 'salary': None}\n",
      "salary =  None\n",
      "person =  {'name': 'Phil', 'salary': None, 'age': 22}\n",
      "age =  22\n"
     ]
    }
   ],
   "source": [
    "person = {'name': 'Phil'}\n",
    "\n",
    "# key is not in the dictionary\n",
    "salary = person.setdefault('salary')\n",
    "print('person = ',person)\n",
    "print('salary = ',salary)\n",
    "\n",
    "# key is not in the dictionary\n",
    "# default_value is provided\n",
    "age = person.setdefault('age', 22)\n",
    "print('person = ',person)\n",
    "print('age = ',age)"
   ]
  },
  {
   "cell_type": "code",
   "execution_count": 15,
   "metadata": {},
   "outputs": [
    {
     "data": {
      "text/plain": [
       "{}"
      ]
     },
     "execution_count": 15,
     "metadata": {},
     "output_type": "execute_result"
    }
   ],
   "source": [
    "new_dict_cpy.clear()\n",
    "new_dict_cpy"
   ]
  }
 ],
 "metadata": {
  "kernelspec": {
   "display_name": "Python 3",
   "language": "python",
   "name": "python3"
  },
  "language_info": {
   "codemirror_mode": {
    "name": "ipython",
    "version": 3
   },
   "file_extension": ".py",
   "mimetype": "text/x-python",
   "name": "python",
   "nbconvert_exporter": "python",
   "pygments_lexer": "ipython3",
   "version": "3.8.0"
  },
  "orig_nbformat": 4
 },
 "nbformat": 4,
 "nbformat_minor": 2
}
