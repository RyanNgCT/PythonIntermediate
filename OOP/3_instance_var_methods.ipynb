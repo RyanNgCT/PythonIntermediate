{
 "cells": [
  {
   "cell_type": "markdown",
   "metadata": {},
   "source": [
    "## Instance Variables and Methods\n",
    "\n",
    "- An instance is single occurrence of the specified object.\n",
    "- Each instance has its own attributes and values (i.e. own `length` and `breadth` etc.)\n",
    "- Instance Methods access its instance variables"
   ]
  },
  {
   "cell_type": "code",
   "execution_count": 1,
   "metadata": {},
   "outputs": [],
   "source": [
    "class Rectangle:\n",
    "    def __init__(self, length, breadth) -> None:\n",
    "        self.length = length\n",
    "        self.breadth = breadth\n",
    "\n",
    "    def area(self) -> int:\n",
    "        return self.length * self.breadth\n",
    "\n",
    "    def perimeter(self) -> int:\n",
    "        return 2 * (self.length + self.breadth)\n",
    "\n",
    "rect = Rectangle(10, 5)"
   ]
  },
  {
   "cell_type": "markdown",
   "metadata": {},
   "source": [
    "## Places to create instance variables"
   ]
  },
  {
   "cell_type": "code",
   "execution_count": 2,
   "metadata": {},
   "outputs": [
    {
     "name": "stdout",
     "output_type": "stream",
     "text": [
      "['__sizeof__', '__str__', '__subclasshook__', '__weakref__', 'a']\n"
     ]
    }
   ],
   "source": [
    "# 1 - inside the constructor of the class\n",
    "\n",
    "class Test:\n",
    "    def __init__(self) -> None:\n",
    "        self.a = 10\n",
    "\n",
    "t1 = Test() # create test obj\n",
    "print(dir(t1)[-5:]) # print the \"tail\" of using the dir() method"
   ]
  },
  {
   "cell_type": "code",
   "execution_count": 3,
   "metadata": {},
   "outputs": [
    {
     "name": "stdout",
     "output_type": "stream",
     "text": [
      "['__subclasshook__', '__weakref__', 'a', 'b', 'update'] \n",
      "\n",
      "10 20\n"
     ]
    }
   ],
   "source": [
    "# 2 - using an instance method to add an instance variable\n",
    "\n",
    "class Test:\n",
    "    def __init__(self) -> None:\n",
    "        self.a = 10\n",
    "\n",
    "    def update(self):\n",
    "        self.b = 20\n",
    "\n",
    "t2 = Test() # create new test obj\n",
    "t2.update() # make instance variable \"b\" accessible\n",
    "print(dir(t2)[-5:], '\\n')\n",
    "print(t2.a, t2.b)"
   ]
  },
  {
   "cell_type": "code",
   "execution_count": 4,
   "metadata": {},
   "outputs": [
    {
     "name": "stdout",
     "output_type": "stream",
     "text": [
      "['__subclasshook__', '__weakref__', 'a', 'b', 'c', 'update'] \n",
      "\n",
      "10 20 Hello, there!\n"
     ]
    }
   ],
   "source": [
    "# 3 - outside of the class itself\n",
    "\n",
    "class Test:\n",
    "    def __init__(self) -> None:\n",
    "        self.a = 10\n",
    "\n",
    "    def update(self):\n",
    "        self.b = 20\n",
    "\n",
    "t3 = Test() \n",
    "t3.update()\n",
    "t3.c = \"Hello, there!\"\n",
    "\n",
    "print(dir(t3)[-6:], '\\n')\n",
    "print(t3.a, t3.b, t3.c)"
   ]
  }
 ],
 "metadata": {
  "kernelspec": {
   "display_name": "Python 3",
   "language": "python",
   "name": "python3"
  },
  "language_info": {
   "codemirror_mode": {
    "name": "ipython",
    "version": 3
   },
   "file_extension": ".py",
   "mimetype": "text/x-python",
   "name": "python",
   "nbconvert_exporter": "python",
   "pygments_lexer": "ipython3",
   "version": "3.10.4"
  },
  "orig_nbformat": 4
 },
 "nbformat": 4,
 "nbformat_minor": 2
}
