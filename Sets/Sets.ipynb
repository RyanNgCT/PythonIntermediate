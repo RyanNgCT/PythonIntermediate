{
 "cells": [
  {
   "attachments": {},
   "cell_type": "markdown",
   "metadata": {},
   "source": [
    "# Sets\n",
    "\n",
    "- unordered data type, mutable, but *NO duplicates*\n",
    "- created with curly braces, elements are separated by commas\n",
    "\n",
    "- **creation syntax**:\n",
    "\n",
    "$$sampleSet = \\{x_{1} , x_{2} , ... x_{n}\\}$$\n",
    "\n",
    "```python\n",
    "sampleSet2 = set([1, 2, 3, 4])\n",
    "sampleSet3 = set(\"Hello!\")\n",
    "```"
   ]
  },
  {
   "cell_type": "code",
   "execution_count": 1,
   "metadata": {},
   "outputs": [
    {
     "data": {
      "text/plain": [
       "{1, 2, 3, 4, 5, 6}"
      ]
     },
     "execution_count": 1,
     "metadata": {},
     "output_type": "execute_result"
    }
   ],
   "source": [
    "mySet = {1, 2, 3, 4, 5, 6}\n",
    "mySet"
   ]
  },
  {
   "attachments": {},
   "cell_type": "markdown",
   "metadata": {},
   "source": [
    "If elements are duplicate, they will be displayed as a single element in the resultant set."
   ]
  },
  {
   "cell_type": "code",
   "execution_count": 2,
   "metadata": {},
   "outputs": [
    {
     "data": {
      "text/plain": [
       "{1, 2, 3, 5}"
      ]
     },
     "execution_count": 2,
     "metadata": {},
     "output_type": "execute_result"
    }
   ],
   "source": [
    "duplicatesSet = {1, 2, 3, 1, 5, 2}\n",
    "duplicatesSet"
   ]
  },
  {
   "cell_type": "code",
   "execution_count": 3,
   "metadata": {},
   "outputs": [
    {
     "data": {
      "text/plain": [
       "{1, 2, 3, 4, 5, 6, 7}"
      ]
     },
     "execution_count": 3,
     "metadata": {},
     "output_type": "execute_result"
    }
   ],
   "source": [
    "mySet.add(7)\n",
    "mySet"
   ]
  },
  {
   "attachments": {},
   "cell_type": "markdown",
   "metadata": {},
   "source": [
    "## Removing Elements\n",
    "1. `.remove()` # error if element not found\n",
    "2. `.discard()` # no error when element not found\n",
    "3. `.pop()` # remove first element in the set (instead of the last)"
   ]
  },
  {
   "cell_type": "code",
   "execution_count": 4,
   "metadata": {},
   "outputs": [
    {
     "ename": "KeyError",
     "evalue": "0",
     "output_type": "error",
     "traceback": [
      "\u001b[0;31m---------------------------------------------------------------------------\u001b[0m",
      "\u001b[0;31mKeyError\u001b[0m                                  Traceback (most recent call last)",
      "\u001b[1;32m/Users/student/Desktop/Projects/PythonIntermediate/Sets/Sets.ipynb Cell 7\u001b[0m line \u001b[0;36m1\n\u001b[0;32m----> <a href='vscode-notebook-cell:/Users/student/Desktop/Projects/PythonIntermediate/Sets/Sets.ipynb#W6sZmlsZQ%3D%3D?line=0'>1</a>\u001b[0m mySet\u001b[39m.\u001b[39;49mremove(\u001b[39m0\u001b[39;49m)\n",
      "\u001b[0;31mKeyError\u001b[0m: 0"
     ]
    }
   ],
   "source": [
    "mySet.remove(0)"
   ]
  },
  {
   "cell_type": "code",
   "execution_count": 5,
   "metadata": {},
   "outputs": [],
   "source": [
    "mySet.discard(0)"
   ]
  },
  {
   "cell_type": "code",
   "execution_count": 6,
   "metadata": {},
   "outputs": [
    {
     "name": "stdout",
     "output_type": "stream",
     "text": [
      "{1, 2, 3, 4, 5, 6, 7}\n",
      "{2, 3, 4, 5, 6, 7}\n",
      "{3, 4, 5, 6, 7}\n",
      "{4, 5, 6, 7}\n",
      "{5, 6, 7}\n",
      "{6, 7}\n",
      "{7}\n"
     ]
    }
   ],
   "source": [
    "for i in range(len(mySet)):\n",
    "    if len(mySet) != 0:\n",
    "        print(mySet)\n",
    "        mySet.pop()"
   ]
  },
  {
   "attachments": {},
   "cell_type": "markdown",
   "metadata": {},
   "source": [
    "## Set Properties\n",
    "- unique properties not available to other data types: `union` and `intersection`."
   ]
  },
  {
   "cell_type": "code",
   "execution_count": 7,
   "metadata": {},
   "outputs": [],
   "source": [
    "odds = {number for number in range(1, 14, 2)} # generate odd nos from 1 to 13 inclusive\n",
    "evens = {number + 1 for number in range(1, 14, 2)} # generate even nos from 2 to 14 inclusive\n",
    "\n",
    "def generatePrimes(start, stop):\n",
    "# Initialize an empty set\n",
    "    primes = set()\n",
    "    for possiblePrime in range(start, stop):\n",
    "        isPrime = True # flag\n",
    "        for num in range(2, possiblePrime):\n",
    "            if possiblePrime % num == 0: # check if not prime\n",
    "                isPrime = False\n",
    "        \n",
    "        if isPrime:\n",
    "            primes.add(possiblePrime)\n",
    "    return primes\n",
    "\n",
    "primes = generatePrimes(1, 15)"
   ]
  },
  {
   "cell_type": "code",
   "execution_count": 8,
   "metadata": {},
   "outputs": [
    {
     "data": {
      "text/plain": [
       "{1, 2, 3, 5, 7, 9, 11, 13}"
      ]
     },
     "execution_count": 8,
     "metadata": {},
     "output_type": "execute_result"
    }
   ],
   "source": [
    "odds.union(primes)"
   ]
  },
  {
   "cell_type": "code",
   "execution_count": 9,
   "metadata": {},
   "outputs": [
    {
     "data": {
      "text/plain": [
       "{1, 2, 3, 4, 5, 6, 7, 8, 9, 10, 11, 12, 13, 14}"
      ]
     },
     "execution_count": 9,
     "metadata": {},
     "output_type": "execute_result"
    }
   ],
   "source": [
    "odds.union(evens) # all nos"
   ]
  },
  {
   "cell_type": "code",
   "execution_count": 10,
   "metadata": {},
   "outputs": [
    {
     "data": {
      "text/plain": [
       "set()"
      ]
     },
     "execution_count": 10,
     "metadata": {},
     "output_type": "execute_result"
    }
   ],
   "source": [
    "odds.intersection(evens) # should be null since odd nos != even nos"
   ]
  }
 ],
 "metadata": {
  "kernelspec": {
   "display_name": "Python 3",
   "language": "python",
   "name": "python3"
  },
  "language_info": {
   "codemirror_mode": {
    "name": "ipython",
    "version": 3
   },
   "file_extension": ".py",
   "mimetype": "text/x-python",
   "name": "python",
   "nbconvert_exporter": "python",
   "pygments_lexer": "ipython3",
   "version": "3.8.0"
  },
  "orig_nbformat": 4,
  "vscode": {
   "interpreter": {
    "hash": "082e9a3bcad0a290d0001e938aa60b99250c6c2ef33a923c00b70f9826caf4b7"
   }
  }
 },
 "nbformat": 4,
 "nbformat_minor": 2
}
